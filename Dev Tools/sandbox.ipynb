{
 "cells": [
  {
   "cell_type": "code",
   "execution_count": 1,
   "metadata": {
    "collapsed": false
   },
   "outputs": [],
   "source": [
    "import glob\n",
    "import os.path\n",
    "import traceback\n",
    "import sys\n",
    "\n",
    "# sys.path.append(os.path.abspath(os.path.join(os.path.dirname(__file__), '..')))\n",
    "\n",
    "# from Compiled.Python_Vensim.ModelParser import ModelParser\n",
    "# from Compiled.Python_Vensim.ModelLexer import ModelLexer\n",
    "# import antlr4\n",
    "\n"
   ]
  },
  {
   "cell_type": "code",
   "execution_count": 6,
   "metadata": {
    "collapsed": false
   },
   "outputs": [],
   "source": [
    "import antlr4"
   ]
  },
  {
   "cell_type": "code",
   "execution_count": null,
   "metadata": {
    "collapsed": true
   },
   "outputs": [],
   "source": [
    "antlr4.P"
   ]
  },
  {
   "cell_type": "code",
   "execution_count": 3,
   "metadata": {
    "collapsed": false
   },
   "outputs": [],
   "source": [
    "from Compiled.Python_Vensim import ModelVisitor"
   ]
  },
  {
   "cell_type": "code",
   "execution_count": 4,
   "metadata": {
    "collapsed": false
   },
   "outputs": [],
   "source": [
    "from Compiled.Python_Vensim import ModelParser"
   ]
  },
  {
   "cell_type": "code",
   "execution_count": 5,
   "metadata": {
    "collapsed": false
   },
   "outputs": [],
   "source": [
    "from Compiled.Python_Vensim import ModelLexer"
   ]
  },
  {
   "cell_type": "code",
   "execution_count": null,
   "metadata": {
    "collapsed": true
   },
   "outputs": [],
   "source": [
    "\n",
    "\n",
    "test_dir = 'test-models/'\n",
    "\n",
    "testfiles = glob.glob(test_dir+'*/*/*.mdl')\n",
    "\n",
    "\n",
    "for modelfile in testfiles[4:]:\n",
    "    print modelfile\n",
    "#    with open(modelfile, 'r') as file:\n",
    "#            text = file.read()\n",
    "\n",
    "#    text = text.split('\\\\\\\\\\---///')[0] #drop layout information\n",
    "#    text = text.replace('\\\\\\n\\t\\t' ,'') #merge lines split with \\\n",
    "#    print text\n",
    "#    print '-----------------------------------------------------'\n",
    "\n",
    "    input = antlr4.FileStream(modelfile)\n",
    "    lexer = ModelLexer()\n",
    "    stream = antlr4.CommonTokenStream(lexer)\n",
    "    print stream.\n",
    "    parser = ModelParser(stream)\n",
    "    tree = parser.model()\n",
    "    break\n"
   ]
  }
 ],
 "metadata": {
  "kernelspec": {
   "display_name": "Python 2",
   "language": "python",
   "name": "python2"
  },
  "language_info": {
   "codemirror_mode": {
    "name": "ipython",
    "version": 2
   },
   "file_extension": ".py",
   "mimetype": "text/x-python",
   "name": "python",
   "nbconvert_exporter": "python",
   "pygments_lexer": "ipython2",
   "version": "2.7.10"
  }
 },
 "nbformat": 4,
 "nbformat_minor": 0
}
